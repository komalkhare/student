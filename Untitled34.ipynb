{
  "nbformat": 4,
  "nbformat_minor": 0,
  "metadata": {
    "colab": {
      "provenance": []
    },
    "kernelspec": {
      "name": "python3",
      "display_name": "Python 3"
    },
    "language_info": {
      "name": "python"
    }
  },
  "cells": [
    {
      "cell_type": "code",
      "source": [
        "import requests\n",
        "import urllib3\n",
        "import json"
      ],
      "metadata": {
        "id": "kcZNGBLb9V-H"
      },
      "execution_count": 27,
      "outputs": []
    },
    {
      "cell_type": "code",
      "source": [
        "urllib3.disable_warnings(urllib3.exceptions.InsecureRequestWarning)\n"
      ],
      "metadata": {
        "id": "YpKyeMz-9WBb"
      },
      "execution_count": 28,
      "outputs": []
    },
    {
      "cell_type": "code",
      "source": [
        "def load_quiz_data(quiz_url):\n",
        "    \"\"\"Loads quiz data from the given URL.\"\"\"\n",
        "    response = requests.get(quiz_url, verify=False)\n",
        "    response.raise_for_status()\n",
        "    quiz_data = response.json()\n",
        "    return quiz_data"
      ],
      "metadata": {
        "id": "e3gJTImD9WEE"
      },
      "execution_count": 30,
      "outputs": []
    },
    {
      "cell_type": "code",
      "source": [
        "def load_submission_data(submission_url):\n",
        "    \"\"\"Loads submission data from the given URL.\"\"\"\n",
        "    response = requests.get(submission_url)\n",
        "    response.raise_for_status()\n",
        "    submission_data = response.json()\n",
        "    return submission_data"
      ],
      "metadata": {
        "id": "FopLVmU49bit"
      },
      "execution_count": 31,
      "outputs": []
    },
    {
      "cell_type": "code",
      "source": [
        "def load_historical_data(historical_data_url):\n",
        "    \"\"\"Loads historical data from the given URL.\"\"\"\n",
        "    response = requests.get(historical_data_url)\n",
        "    response.raise_for_status()\n",
        "    historical_data = response.json()\n",
        "    return historical_data\n"
      ],
      "metadata": {
        "id": "Dr6dXBTI9bl2"
      },
      "execution_count": 32,
      "outputs": []
    },
    {
      "cell_type": "code",
      "source": [
        "def analyze_performance(quiz_data, submission_data, historical_data):\n",
        "    \"\"\"Analyzes student performance and generates insights.\"\"\"\n",
        "\n",
        "    # Calculate average historical score:\n",
        "    total_submissions = len(historical_data)\n",
        "    average_score = sum(submission[\"score\"] for submission in historical_data) / total_submissions if total_submissions else 0\n",
        "\n",
        "    # Analyze quiz and submission data to identify weak areas:\n",
        "    weak_areas = []\n",
        "    incorrect_questions = [q_id for q_id, answer_id in submission_data[\"response_map\"].items()\n",
        "                          if answer_id not in [correct_answer_id for question in quiz_data[\"quiz\"][\"questions\"]\n",
        "                                                for correct_answer_id in question.get(\"correct_answer_ids\", [])]\n",
        "                          ]\n",
        "\n",
        "    for question_id in incorrect_questions:\n",
        "        question = next((q for q in quiz_data[\"quiz\"][\"questions\"] if q[\"id\"] == int(question_id)), None)\n",
        "        if question:\n",
        "            topic = question.get(\"topic\", \"Unknown Topic\")\n",
        "            if topic not in weak_areas:\n",
        "                weak_areas.append(topic)\n",
        "\n",
        "    # ... (Add more analysis logic for improvement trends, performance gaps, etc.) ...\n",
        "\n",
        "    insights = {\n",
        "        \"weak_areas\": weak_areas,\n",
        "        \"improvement_trends\": \"Improving in Topic C\",  # Placeholder\n",
        "        \"performance_gaps\": \"Needs to focus on difficulty level 2 questions\",  # Placeholder\n",
        "        \"average_historical_score\": average_score\n",
        "    }\n",
        "    return insights\n"
      ],
      "metadata": {
        "id": "-p6wSAGV9irV"
      },
      "execution_count": 33,
      "outputs": []
    },
    {
      "cell_type": "code",
      "source": [
        "def generate_recommendations(insights):\n",
        "    \"\"\"Generates personalized recommendations based on insights.\"\"\"\n",
        "    recommendations = [\n",
        "        \"Review concepts in \" + \", \".join(insights[\"weak_areas\"]),  # Use identified weak areas\n",
        "        \"Practice more difficulty level 2 questions\",  # Placeholder\n",
        "        \"Continue practicing Topic C\"  # Placeholder\n",
        "    ]\n",
        "    return recommendations"
      ],
      "metadata": {
        "id": "4ttluaWO9ium"
      },
      "execution_count": 34,
      "outputs": []
    },
    {
      "cell_type": "code",
      "source": [
        "def main():\n",
        "    \"\"\"Main function to execute the analysis and recommendation process.\"\"\"\n",
        "    quiz_url = \"https://jsonkeeper.com/b/LLQT\"\n",
        "    submission_url = \"https://api.jsonserve.com/rJvd7g\"\n",
        "    historical_data_url = \"https://api.jsonserve.com/XgAgFJ\"\n",
        "\n",
        "    try:\n",
        "        quiz_data = load_quiz_data(quiz_url)\n",
        "        submission_data = load_submission_data(submission_url)\n",
        "        historical_data = load_historical_data(historical_data_url)\n",
        "\n",
        "        insights = analyze_performance(quiz_data, submission_data, historical_data)\n",
        "        recommendations = generate_recommendations(insights)\n",
        "\n",
        "        print(\"Insights:\", insights)\n",
        "        print(\"Recommendations:\", recommendations)\n",
        "\n",
        "    except requests.exceptions.RequestException as e:\n",
        "        print(\"Error fetching data:\", e)\n",
        "    except Exception as e:\n",
        "        print(\"An error occurred:\", e)\n",
        "\n",
        "if __name__ == \"__main__\":\n",
        "    main()"
      ],
      "metadata": {
        "colab": {
          "base_uri": "https://localhost:8080/"
        },
        "id": "W55dpQFM9pgk",
        "outputId": "ebcc9f38-8554-4848-cb92-6812578836e0"
      },
      "execution_count": 35,
      "outputs": [
        {
          "output_type": "stream",
          "name": "stdout",
          "text": [
            "Insights: {'weak_areas': ['structural organisation in animals '], 'improvement_trends': 'Improving in Topic C', 'performance_gaps': 'Needs to focus on difficulty level 2 questions', 'average_historical_score': 60.285714285714285}\n",
            "Recommendations: ['Review concepts in structural organisation in animals ', 'Practice more difficulty level 2 questions', 'Continue practicing Topic C']\n"
          ]
        }
      ]
    },
    {
      "cell_type": "code",
      "source": [],
      "metadata": {
        "id": "ZQ8tAD9fGZGq"
      },
      "execution_count": null,
      "outputs": []
    },
    {
      "cell_type": "code",
      "source": [],
      "metadata": {
        "id": "zOaU0M6LGZKv"
      },
      "execution_count": null,
      "outputs": []
    },
    {
      "cell_type": "code",
      "source": [
        "import requests\n",
        "import urllib3\n",
        "import json\n",
        "from collections import defaultdict\n",
        "\n",
        "urllib3.disable_warnings(urllib3.exceptions.InsecureRequestWarning)\n",
        "\n",
        "# --- Data Loading Functions ---\n",
        "def load_quiz_data(quiz_url):\n",
        "    \"\"\"Loads quiz data from the given URL.\"\"\"\n",
        "    response = requests.get(quiz_url, verify=False)\n",
        "    response.raise_for_status()\n",
        "    return response.json()\n",
        "\n",
        "def load_submission_data(submission_url):\n",
        "    \"\"\"Loads submission data from the given URL.\"\"\"\n",
        "    response = requests.get(submission_url)\n",
        "    response.raise_for_status()\n",
        "    return response.json()\n",
        "\n",
        "def load_historical_data(historical_data_url):\n",
        "    \"\"\"Loads historical data from the given URL.\"\"\"\n",
        "    response = requests.get(historical_data_url)\n",
        "    response.raise_for_status()\n",
        "    return response.json()\n",
        "\n",
        "# --- Performance Analysis Function ---\n",
        "def analyze_performance(quiz_data, submission_data, historical_data):\n",
        "    \"\"\"Analyzes student performance and generates insights and recommendations.\"\"\"\n",
        "\n",
        "    # 1. Data Analysis:\n",
        "    topic_performance = defaultdict(lambda: {\"correct\": 0, \"incorrect\": 0})\n",
        "    difficulty_performance = defaultdict(lambda: {\"correct\": 0, \"incorrect\": 0})\n",
        "\n",
        "    for question_id, answer_id in submission_data[\"response_map\"].items():\n",
        "        # Find the corresponding question in quiz_data[\"quiz\"][\"questions\"]\n",
        "        question = next((q for q in quiz_data[\"quiz\"][\"questions\"] if q[\"id\"] == int(question_id)), None)\n",
        "\n",
        "        if question:\n",
        "            topic = question.get(\"topic\", \"Unknown Topic\")\n",
        "            difficulty = question.get(\"difficulty_level\")  # Get difficulty (could be None)\n",
        "\n",
        "            # Assuming 'correct_answer_ids' is a list in the question data\n",
        "            is_correct = str(answer_id) in question.get(\"correct_answer_ids\", [])\n",
        "\n",
        "            topic_performance[topic][\"correct\" if is_correct else \"incorrect\"] += 1\n",
        "\n",
        "            # Only consider questions with a difficulty level for performance gaps\n",
        "            if difficulty is not None:\n",
        "                difficulty_performance[difficulty][\"correct\" if is_correct else \"incorrect\"] += 1\n",
        "\n",
        "    # 2. Generate Insights:\n",
        "    weak_areas = [topic for topic, performance in topic_performance.items() if performance[\"incorrect\"] > performance[\"correct\"]]\n",
        "    performance_gaps = [difficulty for difficulty, performance in difficulty_performance.items() if performance[\"incorrect\"] > performance[\"correct\"]]\n",
        "\n",
        "    # 3. Improvement Trends (using historical_data - Placeholder):\n",
        "    # ... (Compare current performance to previous quizzes for trends) ...\n",
        "    improvement_trends = []  # Placeholder - Replace with actual logic\n",
        "\n",
        "    # 4. Bonus: Student Persona Analysis:\n",
        "    persona = \"\"\n",
        "    total_structural_questions = topic_performance.get(\"structural organisation in animals \", {}).get(\"correct\", 0) + topic_performance.get(\"structural organisation in animals \", {}).get(\"incorrect\", 0)\n",
        "\n",
        "    if total_structural_questions > 0:  # Check if any structural organisation questions were attempted\n",
        "        structural_accuracy = topic_performance.get(\"structural organisation in animals \", {}).get(\"correct\", 0) / total_structural_questions\n",
        "        if structural_accuracy > 0.75:\n",
        "            persona += \"Bio Whiz, \"  # High accuracy in this topic\n",
        "        elif structural_accuracy < 0.25:\n",
        "            persona += \"Cell Challenger, \"  # Low accuracy in this topic\n",
        "\n",
        "    # ... (Add more persona analysis logic based on other patterns) ...\n",
        "\n",
        "    persona = persona.strip(\", \")  # Remove trailing comma and space\n",
        "\n",
        "\n",
        "    # 5. Create Recommendations:\n",
        "    recommendations = []\n",
        "    if weak_areas:\n",
        "        recommendations.extend([f\"Review concepts in {topic}\" for topic in weak_areas])\n",
        "    if performance_gaps:\n",
        "        recommendations.extend([f\"Practice more {difficulty} level questions\" for difficulty in performance_gaps])\n",
        "    # ... (Add recommendations based on improvement_trends) ...\n",
        "\n",
        "    insights = {\n",
        "        \"weak_areas\": weak_areas,\n",
        "        \"improvement_trends\": improvement_trends,\n",
        "        \"performance_gaps\": performance_gaps,\n",
        "        \"student_persona\": persona\n",
        "    }\n",
        "\n",
        "    return insights, recommendations\n",
        "\n",
        "# --- Main Execution ---\n",
        "def main():\n",
        "    \"\"\"Main function to execute the analysis and recommendation process.\"\"\"\n",
        "    quiz_url = \"https://jsonkeeper.com/b/LLQT\"  # Replace with actual Quiz Endpoint\n",
        "    submission_url = \"https://api.jsonserve.com/rJvd7g\"  # Replace with actual Quiz Submission Data Endpoint\n",
        "    historical_data_url = \"https://api.jsonserve.com/XgAgFJ\"  # Replace with actual Historical Quiz Data Endpoint\n",
        "\n",
        "    try:\n",
        "        quiz_data = load_quiz_data(quiz_url)\n",
        "        submission_data = load_submission_data(submission_url)\n",
        "        historical_data = load_historical_data(historical_data_url)\n",
        "\n",
        "        insights, recommendations = analyze_performance(quiz_data, submission_data, historical_data)\n",
        "\n",
        "        print(\"Insights:\", insights)\n",
        "        print(\"Recommendations:\", recommendations)\n",
        "\n",
        "    except requests.exceptions.RequestException as e:\n",
        "        print(\"Error fetching data:\", e)\n",
        "    except Exception as e:\n",
        "        print(\"An error occurred:\", e)\n",
        "\n",
        "if __name__ == \"__main__\":\n",
        "    main()"
      ],
      "metadata": {
        "colab": {
          "base_uri": "https://localhost:8080/"
        },
        "id": "BOezT0tkGZMT",
        "outputId": "030c2f4f-32f7-4a01-ef1c-32cf7a58cf40"
      },
      "execution_count": 39,
      "outputs": [
        {
          "output_type": "stream",
          "name": "stdout",
          "text": [
            "Insights: {'weak_areas': ['structural organisation in animals '], 'improvement_trends': [], 'performance_gaps': [], 'student_persona': 'Cell Challenger'}\n",
            "Recommendations: ['Review concepts in structural organisation in animals ']\n"
          ]
        }
      ]
    }
  ]
}